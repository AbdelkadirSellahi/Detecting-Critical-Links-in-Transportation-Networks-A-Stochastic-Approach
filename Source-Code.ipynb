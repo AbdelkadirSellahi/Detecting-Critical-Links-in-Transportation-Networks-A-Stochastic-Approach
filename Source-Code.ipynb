{
 "cells": [
  {
   "cell_type": "markdown",
   "metadata": {
    "id": "fYX8g9AH_n6R"
   },
   "source": [
    "# **Importing necessary libraries**\n",
    "**numpy**: This library is commonly used for numerical operations and array manipulation. It provides support for mathematical functions on arrays and matrices.\n",
    "\n",
    "**networkx**: NetworkX is a Python library for creating, analyzing, and visualizing complex networks or graphs. It offers tools for the study of the structure, dynamics, and functions of networks.\n",
    "\n",
    "**matplotlib.pyplot**: Matplotlib is a plotting library for creating static, animated, and interactive visualizations in Python. The pyplot module provides a MATLAB-like interface for creating plots and visualizations.\n",
    "\n",
    "**random**: This module provides functions for generating random numbers. It is commonly used for tasks such as random sampling, shuffling, and generating random values within a specified range."
   ]
  },
  {
   "cell_type": "code",
   "execution_count": 1,
   "metadata": {
    "id": "y0AHPQFR-g7i"
   },
   "outputs": [],
   "source": [
    "import numpy as np                  # For numerical operations\n",
    "import networkx as nx               # For creating and manipulating graphs\n",
    "import matplotlib.pyplot as plt     # For plotting graphs and visualizations\n",
    "import random                       # For generating random numbers"
   ]
  },
  {
   "cell_type": "markdown",
   "metadata": {
    "id": "WtRXWo9o_3ua"
   },
   "source": [
    "# **Reads the Siouxfallcri.gml file**\n",
    "* Reads the graph from a GML file named Siouxfallcri.gml using `NetworkX's read_gml()` function.\n",
    "\n",
    "* Define a list of hospitals, where each hospital is represented by a node in the graph.\n",
    "\n",
    "* Finally, it creates a list containing all the nodes present in the graph."
   ]
  },
  {
   "cell_type": "code",
   "execution_count": 2,
   "metadata": {
    "id": "ZJPYkJMP_3nz"
   },
   "outputs": [],
   "source": [
    "# Read the graph from the file\n",
    "graph = nx.read_gml('Siouxfallcri.gml')\n",
    "\n",
    "# Define the list of hospitals\n",
    "hospitals = ['n7', 'n9', 'n22']\n",
    "\n",
    "# Get a list of all nodes in the graph\n",
    "all_nodes = list(graph.nodes)"
   ]
  },
  {
   "cell_type": "markdown",
   "metadata": {
    "id": "4JRfoiZW_3gd"
   },
   "source": [
    "# **Function to generate current data for the network edges**\n",
    "This function generates current data for the edges in the network graph.\n",
    "\n",
    "It iterates over each edge in the graph, retrieves the length and speed attributes (defaulting to 1 if not provided), calculates the minimum and maximum travel times based on the length and speed, generates a random speed within the range [0, speed], and stores this information in a list of tuples.\n",
    "\n",
    "The resulting list contains edge data for the network."
   ]
  },
  {
   "cell_type": "code",
   "execution_count": 3,
   "metadata": {
    "id": "dqBMYYv5_3Zr"
   },
   "outputs": [],
   "source": [
    "def network_current_data():\n",
    "    \"\"\"\n",
    "    Function to generate current data for the network edges.\n",
    "\n",
    "    Returns:\n",
    "    new_data (list): List containing tuples of edge data, each tuple containing:\n",
    "                     (source node, target node, minimum travel time, maximum travel time, speed, random speed).\n",
    "    \"\"\"\n",
    "    new_data = []\n",
    "    for u, v, data in graph.edges(data=True):\n",
    "        # Get the length of the edge, defaulting to 1 if not provided\n",
    "        length = data.get('length', 1)\n",
    "        # Get the speed of the edge, defaulting to 1 if not provided\n",
    "        speed = data.get('speed', 1)\n",
    "        # Generate a random speed within the range [0, speed]\n",
    "        random_speed = random.uniform(0, speed)\n",
    "        # Calculate the minimum and maximum travel times based on length and speed\n",
    "        t_min = length / speed\n",
    "        t_max = 2 * t_min\n",
    "        # Append the edge data to the new_data list\n",
    "        new_data.append((u, v, t_min, t_max, speed, random_speed))\n",
    "    return new_data"
   ]
  },
  {
   "cell_type": "markdown",
   "metadata": {
    "id": "-tmU1UsH_3TJ"
   },
   "source": [
    "# **Function to determine if the specified location is a terminal state**\n",
    "This function takes a `node` as input and checks if it is a `terminal state`,\n",
    "\n",
    "i.e., if it corresponds to one of the hospitals. It iterates over the list of hospitals and returns `True` if the current node matches any of the hospital nodes, indicating that it is a terminal state. Otherwise, it returns `False`."
   ]
  },
  {
   "cell_type": "code",
   "execution_count": 4,
   "metadata": {
    "id": "NLatPx3q_3Mx"
   },
   "outputs": [],
   "source": [
    "def is_terminal_node(current_node):\n",
    "    \"\"\"\n",
    "    Function to determine if the specified location is a terminal state.\n",
    "\n",
    "    Args:\n",
    "    current_node (str): The node to check.\n",
    "\n",
    "    Returns:\n",
    "    state (bool): True if the node is a hospital (terminal state), False otherwise.\n",
    "    \"\"\"\n",
    "    state = False\n",
    "    for hospital in hospitals:\n",
    "        if current_node == hospital:\n",
    "            state = True\n",
    "    return state"
   ]
  },
  {
   "cell_type": "markdown",
   "metadata": {
    "id": "p894MjQh_3GR"
   },
   "source": [
    "# **Function to calculate the expected traverse time between two nodes in the network**\n",
    "This function calculates the expected traversal time between source and target nodes based on network congestion.\n",
    "\n",
    "It takes into account the speed of the link, random speed due to congestion, and transition probabilities between congestion states.\n",
    "\n",
    "The function returns the expected traversal time as a float value. If the source and target nodes are not found in the list, it returns a message indicating the absence of the nodes."
   ]
  },
  {
   "cell_type": "code",
   "execution_count": 5,
   "metadata": {
    "id": "sl_69I4m_2_w"
   },
   "outputs": [],
   "source": [
    "def expected_traverse_time(source, target, new_data):\n",
    "    \"\"\"\n",
    "    Calculate the expected traversal time between source and target nodes based on network congestion.\n",
    "\n",
    "    Args:\n",
    "    - source (str): Source node.\n",
    "    - target (str): Target node.\n",
    "    - new_data (list): List of tuples containing edge data (u, v, t_min, t_max, speed, random_speed).\n",
    "\n",
    "    Returns:\n",
    "    - float: Expected traversal time between source and target nodes.\n",
    "    \"\"\"\n",
    "    for item in new_data:\n",
    "        if item[0] == source and item[1] == target:\n",
    "            speed = item[4]  # Max speed of the link\n",
    "            random_speed = item[5]  # Randomized speed due to congestion\n",
    "            if random_speed < speed / 2:\n",
    "                nc_to_nc = random.uniform(0, 1)  # Probability of no congestion to congestion\n",
    "                nc_to_c = 1 - nc_to_nc  # Probability of congestion to no congestion\n",
    "                expected_time = (nc_to_nc * item[2]) + (nc_to_c * item[3])  # Expected traversal time\n",
    "                return expected_time\n",
    "            elif random_speed >= speed / 2:\n",
    "                c_to_c = random.uniform(0, 1)  # Probability of congestion to congestion\n",
    "                c_to_nc = 1 - c_to_c  # Probability of congestion to no congestion\n",
    "                expected_time = (c_to_c * item[3]) + (c_to_nc * item[2])  # Expected traversal time\n",
    "                return expected_time\n",
    "    return \"Source and target not found in the list\""
   ]
  },
  {
   "cell_type": "markdown",
   "metadata": {
    "id": "uyQy0SDc_25a"
   },
   "source": [
    "# **Function to get possible target nodes reachable from the current node**\n",
    "This function takes a `current node` as input and returns a `list of possible target nodes` reachable from that node in the network graph.\n",
    "\n",
    "It retrieves the list of edges connected to the current node and extracts the target node of each edge, appending it to the list of possible targets. Finally, it returns the list of possible target nodes."
   ]
  },
  {
   "cell_type": "code",
   "execution_count": 6,
   "metadata": {
    "id": "OdHQVRHu_2yv"
   },
   "outputs": [],
   "source": [
    "def get_possible_targets(current_node):\n",
    "    \"\"\"\n",
    "    Function to get possible target nodes reachable from the current node.\n",
    "\n",
    "    Args:\n",
    "    current_node (str): The current node.\n",
    "\n",
    "    Returns:\n",
    "    possible_targets (list): List of possible target nodes reachable from the current node.\n",
    "    \"\"\"\n",
    "    possible_targets = []\n",
    "    edges_list = graph.edges(current_node)  # Get the list of edges connected to the current node\n",
    "    for item in edges_list:\n",
    "        possible_targets.append(item[1])    # Append the target node of each edge to the list of possible targets\n",
    "    return possible_targets"
   ]
  },
  {
   "cell_type": "markdown",
   "metadata": {
    "id": "-fWdOQmk_2rc"
   },
   "source": [
    "# **Function to choose a random, non-terminal starting location**\n",
    "\n",
    "This function selects a random starting node from the list of all nodes in the graph.\n",
    "\n",
    "If the randomly selected node is a terminal node (e.g., a hospital), it continues selecting nodes until a non-terminal node is chosen.\n",
    "\n",
    "Finally, it returns the randomly selected non-terminal starting node."
   ]
  },
  {
   "cell_type": "code",
   "execution_count": 7,
   "metadata": {
    "id": "IAd80OXl_2kd"
   },
   "outputs": [],
   "source": [
    "def get_starting_state(all_nodes):\n",
    "    \"\"\"\n",
    "    Choose a random, non-terminal starting location.\n",
    "\n",
    "    Args:\n",
    "    - all_nodes (list): List of all nodes in the graph.\n",
    "\n",
    "    Returns:\n",
    "    - str: Random, non-terminal starting node.\n",
    "    \"\"\"\n",
    "    # Get a random state\n",
    "    current_node = random.choice(all_nodes)\n",
    "\n",
    "    # Continue choosing random state until a non-terminal state is identified\n",
    "    while is_terminal_node(current_node):\n",
    "        current_node = random.choice(all_nodes)\n",
    "\n",
    "    return current_node"
   ]
  },
  {
   "cell_type": "markdown",
   "metadata": {
    "id": "jT2wCaY__2bv"
   },
   "source": [
    "# **Function to perform backward algorithm for finding the shortest path from end to start node**\n",
    "\n",
    "This function implements a backward search algorithm to find the shortest path between a start node and an end node in a graph.\n",
    "\n",
    "It initializes dictionaries to store node values, backpointers, and a frontier.\n",
    "\n",
    "Then, it updates the values and backpointers until it reaches the start node.\n",
    "\n",
    "Finally, it reconstructs the shortest path using the backpointers and returns the total expected traverse time and the shortest path."
   ]
  },
  {
   "cell_type": "code",
   "execution_count": 8,
   "metadata": {
    "id": "gPH_O0Xn_2T5"
   },
   "outputs": [],
   "source": [
    "def backward_algorithm(graph, new_data, start, end):\n",
    "    \"\"\"\n",
    "    Find the shortest path between start and end nodes using backward search.\n",
    "\n",
    "    Args:\n",
    "    - graph (networkx.Graph): The graph representing the network.\n",
    "    - new_data (list): List containing information about each edge in the graph.\n",
    "    - start (str): The starting node.\n",
    "    - end (str): The destination node.\n",
    "\n",
    "    Returns:\n",
    "    - tuple: A tuple containing the total expected traverse time and the shortest path.\n",
    "    \"\"\"\n",
    "    # Initialize dictionaries for node values, backpointers, and frontier\n",
    "    values = {node: float('inf') for node in graph.nodes}\n",
    "    values[end] = 0\n",
    "    backpointers = {node: None for node in graph.nodes}\n",
    "    frontier = [(end, 0)]\n",
    "\n",
    "    # Update values and backpointers until the start node is reached\n",
    "    while frontier:\n",
    "        current_node, current_value = frontier.pop(0)\n",
    "        if current_node == start:\n",
    "            break\n",
    "        for neighbor in graph.predecessors(current_node):\n",
    "            expected_time = expected_traverse_time(neighbor, current_node, new_data)\n",
    "            new_value = current_value + expected_time\n",
    "            if new_value < values[neighbor]:\n",
    "                values[neighbor] = new_value\n",
    "                backpointers[neighbor] = current_node\n",
    "                frontier.append((neighbor, new_value))\n",
    "\n",
    "    # Use backpointers to reconstruct the shortest path\n",
    "    shortest_path = []\n",
    "    current_node = start\n",
    "    while current_node != end:\n",
    "        shortest_path.append(current_node)\n",
    "        current_node = backpointers[current_node]\n",
    "    shortest_path.append(end)\n",
    "\n",
    "    # Return the total expected traverse time and the shortest path\n",
    "    return values[start], list(reversed(shortest_path))"
   ]
  },
  {
   "cell_type": "markdown",
   "metadata": {
    "id": "jAHShiB3_2J5"
   },
   "source": [
    "# **Function to calculate all shortest paths from hospitals to all other nodes in the graph**\n",
    "\n",
    "This function calculates the shortest paths from each hospital to all other nodes in the graph using the backward algorithm.\n",
    "\n",
    "It returns a dictionary where keys are hospital nodes, and values are dictionaries containing lengths and paths to other nodes."
   ]
  },
  {
   "cell_type": "code",
   "execution_count": 9,
   "metadata": {
    "id": "QNT9-rpX_18N"
   },
   "outputs": [],
   "source": [
    "def calculate_all_shortest_paths(graph, hospitals, new_data):\n",
    "    \"\"\"\n",
    "    Calculate the shortest paths from each hospital to all other nodes in the graph.\n",
    "\n",
    "    Args:\n",
    "    - graph (networkx.Graph): The graph representing the network.\n",
    "    - hospitals (list): List of hospital nodes.\n",
    "    - new_data (list): List containing information about each edge in the graph.\n",
    "\n",
    "    Returns:\n",
    "    - dict: A dictionary containing the shortest paths from each hospital to all other nodes.\n",
    "            Keys are hospital nodes, and values are dictionaries containing lengths and paths.\n",
    "    \"\"\"\n",
    "    shortest_paths = {}\n",
    "    # Iterate over each hospital\n",
    "    for hospital in hospitals:\n",
    "        shortest_paths[hospital] = {}\n",
    "        # Iterate over all nodes in the graph\n",
    "        for node in graph.nodes:\n",
    "            # Exclude the hospital itself\n",
    "            if node != hospital:\n",
    "                # Calculate the shortest path from the hospital to the current node\n",
    "                length, path = backward_algorithm(graph, new_data, hospital, node)\n",
    "                # Store the length and path in the shortest paths dictionary\n",
    "                shortest_paths[hospital][node] = (length, path)\n",
    "    return shortest_paths"
   ]
  },
  {
   "cell_type": "markdown",
   "metadata": {
    "id": "7Oq3gjyNH4z2"
   },
   "source": [
    "# **Function to calculate all shortest paths from each node to all hospitals in the graph.**\n",
    "\n",
    "This function calculates the shortest paths from each node to all hospitals in the graph using the backward algorithm.\n",
    "\n",
    "It returns a dictionary where keys are nodes, and values are dictionaries containing lengths and paths to all hospitals."
   ]
  },
  {
   "cell_type": "code",
   "execution_count": 10,
   "metadata": {
    "id": "M40P2RrpH4qf"
   },
   "outputs": [],
   "source": [
    "def calculate_all_Back_shortest_paths(graph, hospitals, new_data):\n",
    "    \"\"\"\n",
    "    Calculate the shortest paths from each node to all hospitals in the graph.\n",
    "\n",
    "    Args:\n",
    "    - graph (networkx.Graph): The graph representing the network.\n",
    "    - hospitals (list): List of hospital nodes.\n",
    "    - new_data (list): List containing information about each edge in the graph.\n",
    "\n",
    "    Returns:\n",
    "    - dict: A dictionary containing the shortest paths from each node to all hospitals.\n",
    "            Keys are nodes, and values are dictionaries containing lengths and paths.\n",
    "    \"\"\"\n",
    "    shortest_paths = {}\n",
    "    # Iterate over all nodes in the graph\n",
    "    for node in graph.nodes:\n",
    "        shortest_paths[node] = {}\n",
    "        # Iterate over each hospital\n",
    "        for hospital in hospitals:\n",
    "            # Exclude the node itself\n",
    "            if hospital != node:\n",
    "                # Calculate the shortest path from the node to the hospital\n",
    "                length, path = backward_algorithm(graph, new_data, node, hospital)\n",
    "                # Store the length and path in the shortest paths dictionary\n",
    "                shortest_paths[node][hospital] = (length, path)\n",
    "    return shortest_paths"
   ]
  },
  {
   "cell_type": "markdown",
   "metadata": {
    "id": "qN_m1HK3Ii4K"
   },
   "source": [
    "# **Function to update the capacity of each hospital based on the number of patients arriving at each hospital**\n",
    "\n",
    "This function updates the count of patients in each hospital and removes a hospital if it reaches its capacity.\n",
    "\n",
    "It also writes a message to a file `data.txt` indicating which hospital is full."
   ]
  },
  {
   "cell_type": "code",
   "execution_count": 11,
   "metadata": {
    "id": "R4tHjOC_IixN"
   },
   "outputs": [],
   "source": [
    "def The_capacity_of_each_hospital(path, hospitals_capacity, nbrpaston7, nbrpaston9, nbrpaston22):\n",
    "    \"\"\"\n",
    "    Update the number of patients in each hospital and remove the hospital if it reaches capacity.\n",
    "\n",
    "    Args:\n",
    "    - path (list): Path taken by a patient, represented as a list of node IDs.\n",
    "    - hospitals_capacity (int): Maximum capacity of each hospital.\n",
    "    - nbrpaston7 (int): Current number of patients in hospital n7.\n",
    "    - nbrpaston9 (int): Current number of patients in hospital n9.\n",
    "    - nbrpaston22 (int): Current number of patients in hospital n22.\n",
    "\n",
    "    Returns:\n",
    "    - tuple: Updated counts of patients in hospitals (nbrpaston7, nbrpaston9, nbrpaston22).\n",
    "    \"\"\"\n",
    "    if path[-1] == 'n7':\n",
    "        nbrpaston7 += 1\n",
    "        if nbrpaston7 == hospitals_capacity:\n",
    "            if 'n7' in hospitals:\n",
    "                del_index = hospitals.index('n7')\n",
    "                del hospitals[del_index]\n",
    "                fichier = open(\"data.txt\", \"a\")\n",
    "                fichier.write(\"\\n\"+' The hospital n7 is full ')\n",
    "                fichier.close()\n",
    "    elif path[-1] == 'n9':\n",
    "        nbrpaston9 += 1\n",
    "        if nbrpaston9 == hospitals_capacity:\n",
    "            if 'n9' in hospitals:\n",
    "                del_index = hospitals.index('n9')\n",
    "                del hospitals[del_index]\n",
    "                fichier = open(\"data.txt\", \"a\")\n",
    "                fichier.write(\"\\n\"+' The hospital n9 is full ')\n",
    "                fichier.close()\n",
    "    elif path[-1] == 'n22':\n",
    "        nbrpaston22 += 1\n",
    "        if nbrpaston22 == hospitals_capacity:\n",
    "            if 'n22' in hospitals:\n",
    "                del_index = hospitals.index('n22')\n",
    "                del hospitals[del_index]\n",
    "                fichier = open(\"data.txt\", \"a\")\n",
    "                fichier.write(\"\\n\"+' The hospital n22 is full ')\n",
    "                fichier.close()\n",
    "    return nbrpaston7, nbrpaston9, nbrpaston22"
   ]
  },
  {
   "cell_type": "markdown",
   "metadata": {
    "id": "xbA5NoPlIip0"
   },
   "source": [
    "# **Function calculates the number of occurrences of each edge**\n",
    "\n",
    "This function calculates the number of occurrences of each edge in a given path and returns them sorted by count in descending order.\n",
    "\n",
    "It takes a path and a list of all edges as input."
   ]
  },
  {
   "cell_type": "code",
   "execution_count": 12,
   "metadata": {
    "id": "7pUTsryjIidl"
   },
   "outputs": [],
   "source": [
    "def number_paths_in_road(path, all_edges):\n",
    "    \"\"\"\n",
    "    Calculate the number of occurrences of each edge in a path and sort them by count.\n",
    "\n",
    "    Args:\n",
    "    - path (list): Path taken by a patient, represented as a list of node IDs.\n",
    "    - all_edges (list): List of all edges in the graph.\n",
    "\n",
    "    Returns:\n",
    "    - list: Sorted list of edges based on their count in the path, in descending order.\n",
    "    \"\"\"\n",
    "    # Create a dictionary to store the count of each edge\n",
    "    all_edges_dict = {(u, v): cont for u, v, cont in all_edges}\n",
    "\n",
    "    # Iterate over pairs of nodes in the path\n",
    "    for u, v in zip(path, path[1:]):\n",
    "        # Increment the count for the edge if it exists in the dictionary\n",
    "        if (u, v) in all_edges_dict:\n",
    "            all_edges_dict[(u, v)] += 1\n",
    "\n",
    "    # Convert the dictionary back to a list of tuples\n",
    "    all_edges = [(u, v, cont) for (u, v), cont in all_edges_dict.items()]\n",
    "\n",
    "    # Sort the edges based on their count in descending order\n",
    "    sort_edges = sorted(all_edges, key=lambda x: x[2], reverse=True)\n",
    "\n",
    "    return sort_edges"
   ]
  },
  {
   "cell_type": "markdown",
   "metadata": {
    "id": "e65DljKwKKdY"
   },
   "source": [
    "# **Function Simulate the transportation of casualties from disaster site to hospitals and record the results**\n",
    "\n",
    "This function simulates the transportation of casualties from a disaster site to hospitals, recording the results including path and time for each casualty.\n",
    "\n",
    "It iterates over the specified number of casualties, calculating shortest paths from the disaster site to hospitals for each and updating hospital capacities and road occurrences accordingly.\n",
    "\n",
    "Additionally, it calculates backward shortest paths from hospitals to the disaster site for each previous casualty and accumulates the total time with these paths.\n",
    "\n",
    "The simulation data including paths and times is recorded in a file named `data.txt`.\n",
    "\n",
    "Finally, the function returns the updated list of edges and the total time elapsed in the simulation."
   ]
  },
  {
   "cell_type": "code",
   "execution_count": 13,
   "metadata": {
    "id": "6fOn-3sfKKXb"
   },
   "outputs": [],
   "source": [
    "def Simulation(number_casualties, hospitals, total_time, all_edges):\n",
    "    \"\"\"\n",
    "    Simulate the transportation of casualties from disaster site to hospitals and record the results.\n",
    "\n",
    "    Args:\n",
    "    - number_casualties (int): Number of casualties to simulate.\n",
    "    - hospitals (list): List of hospital nodes.\n",
    "    - total_time (float): Total time elapsed in the simulation.\n",
    "    - all_edges (list): List of all edges in the graph.\n",
    "\n",
    "    Returns:\n",
    "    - tuple: Updated list of edges and total time elapsed.\n",
    "    \"\"\"\n",
    "    nbrpaston7 = 0\n",
    "    nbrpaston9 = 0\n",
    "    nbrpaston22 = 0\n",
    "    back = 'n1'  # Starting node for backward traversal\n",
    "    fichier = open(\"data.txt\", \"a\")  # Open a file for recording simulation data\n",
    "\n",
    "    for i in range(number_casualties):\n",
    "        time_travl = float('inf')\n",
    "        start_node = get_starting_state(all_nodes)  # Get random starting node for each casualty\n",
    "        if i != 0:\n",
    "            # Calculate backward shortest path from hospital to disaster site for the previous casualty\n",
    "            shortest_paths_back = calculate_all_Back_shortest_paths(graph, hospitals, network_current_data())\n",
    "\n",
    "            # Accumulate total time with the backward path\n",
    "            total_time += shortest_paths_back.get(start_node).get(back)[0]\n",
    "\n",
    "            # Record the backward path and time in the file\n",
    "            back_path = shortest_paths_back.get(start_node).get(back)[1]\n",
    "            fichier.write(\"\\n\" + 'Time from hospital to disaster site : ' + str(total_time) +' | '+ ' Path : ' + '->'.join([str(elem) for elem in back_path]))\n",
    "\n",
    "            # Update hospital capacities and road occurrences based on the backward path\n",
    "            nbrpaston7, nbrpaston9, nbrpaston22 = The_capacity_of_each_hospital(back_path, hospitals_capacity, nbrpaston7, nbrpaston9, nbrpaston22)\n",
    "            all_edges = number_paths_in_road(back_path, all_edges)\n",
    "\n",
    "        # Calculate shortest paths from disaster site to hospitals for the current casualty\n",
    "        shortest_paths = calculate_all_shortest_paths(graph, hospitals, network_current_data())\n",
    "\n",
    "        # Find the hospital with the shortest arrival time for the current casualty\n",
    "        for hospital in hospitals:\n",
    "            timeexp = shortest_paths.get(hospital).get(start_node)[0]\n",
    "            if timeexp < time_travl:\n",
    "                time_travl = timeexp\n",
    "                path = shortest_paths.get(hospital).get(start_node)[1]\n",
    "                back = path[-1]  # Update the starting node for the next backward traversal\n",
    "\n",
    "        # Record the forward path and time in the file\n",
    "        fichier.write(\"\\n\" + 'Time from disaster site to hospital  : ' + str(total_time) +' | '+ ' Path : ' + '->'.join([str(elem) for elem in path]))\n",
    "\n",
    "        # Update road occurrences based on the forward path\n",
    "        all_edges = number_paths_in_road(path, all_edges)\n",
    "\n",
    "        # Accumulate total time with the forward path\n",
    "        total_time += time_travl\n",
    "\n",
    "    fichier.close()  # Close the file after recording all simulation data\n",
    "    return all_edges, total_time"
   ]
  },
  {
   "cell_type": "markdown",
   "metadata": {
    "id": "5eKOMPAJKKPu"
   },
   "source": [
    "This code initializes the parameters for the `first simulation`, runs the simulation, and records the results in the `data.txt` file.\n",
    "\n",
    "Finally, it prints the updated edges after the simulation and records the duration of the simulation in the same file."
   ]
  },
  {
   "cell_type": "code",
   "execution_count": 14,
   "metadata": {
    "id": "_4aO7vpZKKHL"
   },
   "outputs": [],
   "source": [
    "totale_time = 0  # Initialize the total time\n",
    "hospitals = ['n7', 'n9', 'n22']  # List of hospital nodes\n",
    "number_casualties = 250  # Number of simulated casualties\n",
    "hospitals_capacity = 100  # Maximum capacity of each hospital\n",
    "all_edges = [(u, v, 0) for u, v in graph.edges()]  # List of all edges in the graph, initialized with zero counts\n",
    "\n",
    "# Open the file for writing simulation data\n",
    "fichier = open(\"data.txt\", \"a\")\n",
    "fichier.write('The First Simulation \"before deleting the critical edge\" ')\n",
    "fichier.write(\"\\n\"+'-------------------------------------------------------------------')\n",
    "fichier.close()\n",
    "\n",
    "# Perform the first simulation\n",
    "all_edges, totale_time = Simulation(number_casualties, hospitals, totale_time, all_edges)\n",
    "\n",
    "# Open the file for writing simulation duration\n",
    "fichier = open(\"data.txt\", \"a\")\n",
    "fichier.write(\"\\n\"+'-------------------------------------------------------------------')\n",
    "fichier.write(\"\\n\"+'Duration of the first simulation : '+str(totale_time))\n",
    "fichier.write(\"\\n\"+'-------------------------------------------------------------------')\n",
    "fichier.close()"
   ]
  },
  {
   "cell_type": "markdown",
   "metadata": {},
   "source": [
    "# **Draw the graph before the simulation**\n",
    "This code snippet visualizes the graph representing the network with node labels and hospital nodes highlighted in red.\n",
    "\n",
    "It uses the Spring layout algorithm for positioning nodes and displays the graph using Matplotlib."
   ]
  },
  {
   "cell_type": "code",
   "execution_count": 15,
   "metadata": {},
   "outputs": [
    {
     "data": {
      "image/png": "[encoded data removed]",
      "text/plain": [
       "<Figure size 640x480 with 1 Axes>"
      ]
     },
     "metadata": {},
     "output_type": "display_data"
    }
   ],
   "source": [
    "# Draw the graph with node labels\n",
    "pos = nx.spring_layout(graph)\n",
    "nx.draw_networkx(graph, pos, with_labels=True)\n",
    "\n",
    "# Highlight the hospital nodes with a different color\n",
    "node_colors = ['red' if node in hospitals else 'blue' for node in graph.nodes]\n",
    "nx.draw_networkx_nodes(graph, pos, node_color=node_colors)\n",
    "\n",
    "# Display the graph\n",
    "plt.axis('off')\n",
    "plt.show()"
   ]
  },
  {
   "cell_type": "markdown",
   "metadata": {
    "id": "uwglvlykLnGe"
   },
   "source": [
    "# **Identify and remove the critical edge**\n",
    "This code removes the `critical edge` from the graph, records information about the removed edge and the start of the `second simulation` in the `data.txt` file.\n",
    "\n",
    "Then, it resets the parameters for the second simulation, performs the simulation, and records the duration of the second simulation in the same file."
   ]
  },
  {
   "cell_type": "code",
   "execution_count": 16,
   "metadata": {
    "id": "ARSOxFhXLnAG"
   },
   "outputs": [],
   "source": [
    "# Remove the critical edge from the graph\n",
    "graph.remove_edge(all_edges[0][0], all_edges[0][1])\n",
    "graph.remove_edge(all_edges[1][0], all_edges[0][0])\n",
    "\n",
    "# Open the file for writing information about the critical edge and the second simulation\n",
    "fichier = open(\"data.txt\", \"a\")\n",
    "fichier.write(\"\\n\" + 'The critical edge : ' + all_edges[0][0] + ' -> ' + all_edges[0][1])\n",
    "fichier.write(\"\\n\"+'-------------------------------------------------------------------')\n",
    "fichier.write(\"\\n\" + 'The second Simulation \"after deleting the critical edge\"  ')\n",
    "fichier.write(\"\\n\"+'-------------------------------------------------------------------')\n",
    "fichier.close()\n",
    "\n",
    "# Reset total time and parameters for the second simulation\n",
    "totale_time = 0\n",
    "hospitals = ['n7', 'n9', 'n22']\n",
    "number_casualties = 250\n",
    "hospitals_capacity = 100\n",
    "all_edges = [(u, v, 0) for u, v in graph.edges()]\n",
    "\n",
    "# Perform the second simulation\n",
    "all_edges, totale_time = Simulation(number_casualties, hospitals, totale_time, all_edges)\n",
    "\n",
    "# Open the file for writing the duration of the second simulation\n",
    "fichier = open(\"data.txt\", \"a\")\n",
    "fichier.write(\"\\n\"+'-------------------------------------------------------------------')\n",
    "fichier.write(\"\\n\" + 'Duration of the second simulation : ' + str(totale_time))\n",
    "fichier.write(\"\\n\"+'-------------------------------------------------------------------')\n",
    "fichier.close()"
   ]
  },
  {
   "cell_type": "markdown",
   "metadata": {},
   "source": [
    "# **Draw the graph after the simulation**\n",
    "This code snippet visualizes the graph with node labels and hospital nodes highlighted in red.\n",
    "\n",
    "It uses the spring layout algorithm for node positioning and displays the graph without axis labels."
   ]
  },
  {
   "cell_type": "code",
   "execution_count": 17,
   "metadata": {},
   "outputs": [
    {
     "data": {
      "image/png": "[encoded data removed]",
      "text/plain": [
       "<Figure size 640x480 with 1 Axes>"
      ]
     },
     "metadata": {},
     "output_type": "display_data"
    }
   ],
   "source": [
    "# Draw the graph with node labels and hospital nodes highlighted\n",
    "pos = nx.spring_layout(graph)  # Position nodes using the spring layout algorithm\n",
    "nx.draw_networkx(graph, pos, with_labels=True)  # Draw the network with node labels\n",
    "\n",
    "# Highlight the hospital nodes with a different color\n",
    "node_colors = ['red' if node in hospitals else 'blue' for node in graph.nodes]\n",
    "nx.draw_networkx_nodes(graph, pos, node_color=node_colors)\n",
    "\n",
    "# Display the graph\n",
    "plt.axis('off')  # Turn off axis labels\n",
    "plt.show()  # Show the plot"
   ]
  }
 ],
 "metadata": {
  "colab": {
   "provenance": []
  },
  "kernelspec": {
   "display_name": "Python 3 (ipykernel)",
   "language": "python",
   "name": "python3"
  },
  "language_info": {
   "codemirror_mode": {
    "name": "ipython",
    "version": 3
   },
   "file_extension": ".py",
   "mimetype": "text/x-python",
   "name": "python",
   "nbconvert_exporter": "python",
   "pygments_lexer": "ipython3",
   "version": "3.11.5"
  }
 },
 "nbformat": 4,
 "nbformat_minor": 1
}
